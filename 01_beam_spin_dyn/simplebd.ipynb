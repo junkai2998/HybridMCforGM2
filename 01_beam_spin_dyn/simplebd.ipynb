{
 "cells": [
  {
   "cell_type": "markdown",
   "id": "b409ea08-fb39-4402-9ddc-47579578029f",
   "metadata": {},
   "source": [
    "# 1.0 Test with simple beam and spin dynamics"
   ]
  },
  {
   "cell_type": "code",
   "execution_count": 44,
   "id": "e7152b11-7659-498a-85eb-9917346fb728",
   "metadata": {},
   "outputs": [
    {
     "name": "stdout",
     "output_type": "stream",
     "text": [
      "Welcome to JupyROOT 6.24/00\n"
     ]
    }
   ],
   "source": [
    "import sys, os, shutil\n",
    "import ROOT as r\n",
    "import numpy as np\n",
    "import matplotlib.pyplot as plt\n",
    "\n",
    "\n",
    "sys.path.insert(1,'../02_positron_sampling')\n",
    "from PositronDecay import GenerateMichelKinematics, GeneratePositron_MRF, Calculate_Phase, GeneratePositron_LAB\n",
    "from Constants import EMMU, EMASS, pi, twopi, fine_structure_const"
   ]
  },
  {
   "cell_type": "markdown",
   "id": "ad9d5925-b282-45eb-8310-d7192ce0797b",
   "metadata": {},
   "source": [
    "# 1.1 without time randomization"
   ]
  },
  {
   "cell_type": "code",
   "execution_count": 2,
   "id": "fb8da482-cfe3-40ba-822c-488073e358de",
   "metadata": {},
   "outputs": [],
   "source": [
    "# for more complete bd, pls go to\n",
    "# https://cdcvs.fnal.gov/redmine/projects/gm2ringsim/repository/revisions/develop/entry/actions/PGA/GasGunBdyn/GasGunBdyn_service.cc\n",
    "# cyclotron period 0.2291 MHz (149.2 ns ~ 0.1 us)\n",
    "# spin precession frequency = 6.9315 MHz (0.1443 us)\n",
    "# data from E989 Note 205: The Beam Dynamics Model (Sweigart)\n",
    "\n",
    "get_theta_c = lambda t:2*np.pi/0.1492*t # cyclotron motion, phase set to 0\n",
    "get_theta_s = lambda t:2*np.pi/0.1443*t # spin precession, phase set to 0\n",
    "\n",
    "dt = 0.1 # steps in us\n",
    "N_pts = int(700/dt) # discretize 700 us in steps of dt\n",
    "\n",
    "cyclotron_angles = get_theta_c(np.arange(N_pts)*dt)\n",
    "precession_angles = get_theta_s(np.arange(N_pts)*dt)"
   ]
  },
  {
   "cell_type": "code",
   "execution_count": 3,
   "id": "d2906518-d378-4078-83ac-a3a1f38f7e14",
   "metadata": {},
   "outputs": [],
   "source": [
    "def GenerateFill(j):\n",
    "    print (\"Fill: \",j) # to use a function for multiprocessing.pool, function has to take 1 argument\n",
    "    \n",
    "    four_momenta_LAB = np.zeros(shape=(N_pts,12))\n",
    "\n",
    "    for i in range(N_pts):\n",
    "        # positrons in MRF\n",
    "        theta_s = precession_angles[i]\n",
    "        E_primed, px_primed, py_primed, pz_primed, muDecayPolX, muDecayPolY, muDecayPolZ = GeneratePositron_MRF(*GenerateMichelKinematics(),theta_s)\n",
    "        \n",
    "        # boost to LAB frame\n",
    "        theta_c = cyclotron_angles[i]\n",
    "        four_momenta_LAB[i,0:7] = GeneratePositron_LAB(E_primed, px_primed, py_primed, pz_primed, theta_c)\n",
    "        four_momenta_LAB[i,7] = muDecayPolX\n",
    "        four_momenta_LAB[i,8] = muDecayPolY\n",
    "        four_momenta_LAB[i,9] = muDecayPolZ  \n",
    "\n",
    "        # calculate and store g2phase \"Phase(muDecayPX,muDecayPZ,muDecayPolX,muDecayPolZ)\"\n",
    "        phase = Calculate_Phase(four_momenta_LAB[i,4], four_momenta_LAB[i,6],\n",
    "                                four_momenta_LAB[i,7], four_momenta_LAB[i,9])\n",
    "        four_momenta_LAB[i,10] = phase # g2phase\n",
    "        four_momenta_LAB[i,11] = np.cos(phase) # cos(g2phase)  \n",
    "    \n",
    "    return four_momenta_LAB"
   ]
  },
  {
   "cell_type": "markdown",
   "id": "82201a57-77f2-457c-bf71-9a18793b7dfa",
   "metadata": {},
   "source": [
    "# 1.2 with time randomization"
   ]
  },
  {
   "cell_type": "code",
   "execution_count": 12,
   "id": "769adc12-0825-4df6-a1f6-b8d5e6626277",
   "metadata": {},
   "outputs": [],
   "source": [
    "dt = 0.1 # steps in us\n",
    "N_pts = int(700/dt) # discretize 700 us in steps of dtdt = 0.1\n",
    "t_pts_base = np.arange(N_pts)*dt\n",
    "\n",
    "get_theta_c = lambda t:2*np.pi/0.1492*t # cyclotron motion, phase set to 0\n",
    "get_theta_s = lambda t:2*np.pi/0.1443*t # spin precession, phase set to 0\n",
    "\n",
    "# do time randomization, to sample more points in between\n",
    "# t_pts = t_pts_base + np.random.uniform(low=-0.5*dt,high=.5*dt,size=N_pts)\n",
    "\n",
    "# cyclotron_angles = get_theta_c(np.arange(t_pts))\n",
    "# spin_precession_angles = get_theta_s(np.arange(t_pts))"
   ]
  },
  {
   "cell_type": "code",
   "execution_count": 13,
   "id": "172923e1-1473-4306-9ed5-c7eddef9b08d",
   "metadata": {},
   "outputs": [],
   "source": [
    "def GenerateFill(j):\n",
    "    # with time randomization\n",
    "    print (\"Fill: \",j) # to use a function for multiprocessing.pool, function has to take 1 argument\n",
    "    \n",
    "    four_momenta_LAB = np.zeros(shape=(N_pts,12))\n",
    "    \n",
    "    t_pts = t_pts_base + np.random.uniform(low=-0.5*dt,high=0.5*dt,size=N_pts)\n",
    "    cyclotron_angles = get_theta_c(t_pts)\n",
    "    spin_precession_angles = get_theta_s(t_pts)\n",
    "\n",
    "    for i in range(N_pts):\n",
    "        # positrons in MRF\n",
    "        theta_s = spin_precession_angles[i]\n",
    "        E_primed, px_primed, py_primed, pz_primed, muDecayPolX, muDecayPolY, muDecayPolZ = GeneratePositron_MRF(*GenerateMichelKinematics(),theta_s)\n",
    "        \n",
    "        # boost to LAB frame\n",
    "        theta_c = cyclotron_angles[i]\n",
    "        four_momenta_LAB[i,0:7] = GeneratePositron_LAB(E_primed, px_primed, py_primed, pz_primed, theta_c)\n",
    "        four_momenta_LAB[i,7] = muDecayPolX\n",
    "        four_momenta_LAB[i,8] = muDecayPolY\n",
    "        four_momenta_LAB[i,9] = muDecayPolZ  \n",
    "\n",
    "        # calculate and store g2phase \"Phase(muDecayPX,muDecayPZ,muDecayPolX,muDecayPolZ)\"\n",
    "        phase = Calculate_Phase(four_momenta_LAB[i,4], four_momenta_LAB[i,6],\n",
    "                                four_momenta_LAB[i,7], four_momenta_LAB[i,9])\n",
    "        four_momenta_LAB[i,10] = phase # g2phase\n",
    "        four_momenta_LAB[i,11] = np.cos(phase) # cos(g2phase)  \n",
    "    \n",
    "    return four_momenta_LAB"
   ]
  },
  {
   "cell_type": "markdown",
   "id": "d6512efc-ab00-475f-b7b8-97d9aa883871",
   "metadata": {},
   "source": [
    "# 1.3 produce xyzt, with time randomization"
   ]
  },
  {
   "cell_type": "code",
   "execution_count": 5,
   "id": "7ed7331e-ed75-4c8c-8d21-edb7144de6db",
   "metadata": {},
   "outputs": [],
   "source": [
    "dt = 0.1 # steps in us\n",
    "N_pts = int(700/dt) # discretize 700 us in steps of dtdt = 0.1\n",
    "t_pts_base = np.arange(N_pts)*dt\n",
    "\n",
    "get_theta_c = lambda t:2*np.pi/0.1492*t # cyclotron motion, phase set to 0\n",
    "get_theta_s = lambda t:2*np.pi/0.1443*t # spin precession, phase set to 0"
   ]
  },
  {
   "cell_type": "code",
   "execution_count": 3,
   "id": "1db473ec-de7e-408d-8a7d-a949e4e87df6",
   "metadata": {},
   "outputs": [],
   "source": [
    "def GenerateFill(j):\n",
    "    # with time randomization\n",
    "    print (\"Fill: \",j) # to use a function for multiprocessing.pool, function has to take 1 argument\n",
    "    \n",
    "    four_momenta_LAB = np.zeros(shape=(N_pts,16))\n",
    "    \n",
    "    t_pts = t_pts_base + np.random.uniform(low=-0.5*dt,high=0.5*dt,size=N_pts)\n",
    "    cyclotron_angles = get_theta_c(t_pts)\n",
    "    spin_precession_angles = get_theta_s(t_pts)\n",
    "\n",
    "    four_momenta_LAB[:,15] = t_pts # posiInitTime\n",
    "\n",
    "    for i in range(N_pts):\n",
    "        # positrons in MRF\n",
    "        theta_s = spin_precession_angles[i]\n",
    "        E_primed, px_primed, py_primed, pz_primed, muDecayPolX, muDecayPolY, muDecayPolZ = GeneratePositron_MRF(*GenerateMichelKinematics(),theta_s)\n",
    "        \n",
    "        # boost to LAB frame\n",
    "        theta_c = cyclotron_angles[i]\n",
    "        four_momenta_LAB[i,0:7] = GeneratePositron_LAB(E_primed, px_primed, py_primed, pz_primed, theta_c)\n",
    "        four_momenta_LAB[i,7] = muDecayPolX\n",
    "        four_momenta_LAB[i,8] = muDecayPolY\n",
    "        four_momenta_LAB[i,9] = muDecayPolZ\n",
    "        \n",
    "        # position in LAB frame [mm]      \n",
    "        four_momenta_LAB[i,12] = 7112*np.cos(theta_c) # posiInitPosX\n",
    "        four_momenta_LAB[i,13] = 0 # posiInitPosY # np.random.uniform(-45,45)\n",
    "        four_momenta_LAB[i,14] = 7112*np.sin(theta_c) # posiInitPosZ\n",
    "\n",
    "        # calculate and store g2phase \"Phase(muDecayPX,muDecayPZ,muDecayPolX,muDecayPolZ)\"\n",
    "        phase = Calculate_Phase(four_momenta_LAB[i,4], four_momenta_LAB[i,6],\n",
    "                                four_momenta_LAB[i,7], four_momenta_LAB[i,9])\n",
    "        four_momenta_LAB[i,10] = phase # g2phase\n",
    "        four_momenta_LAB[i,11] = np.cos(phase) # cos(g2phase)  \n",
    "    \n",
    "    return four_momenta_LAB"
   ]
  },
  {
   "cell_type": "markdown",
   "id": "6a90af3d-2a2a-4e0c-93bb-072034c67b94",
   "metadata": {},
   "source": [
    "# 1.4*** produce xyzt, with continuous time (from uniform random numbers)"
   ]
  },
  {
   "cell_type": "code",
   "execution_count": 7,
   "id": "095e6654-212c-4b58-9870-1e5c8b853fea",
   "metadata": {},
   "outputs": [],
   "source": [
    "N_per_fill = 10000\n",
    "get_theta_c = lambda t:2*np.pi/0.1492*t # cyclotron motion, phase set to 0\n",
    "get_theta_s = lambda t:2*np.pi/0.1443*t # spin precession, phase set to 0\n",
    "\n",
    "def GenerateFill(j):\n",
    "    # with time randomization\n",
    "    print (\"Fill: \",j) # to use a function for multiprocessing.pool, function has to take 1 argument\n",
    "    \n",
    "    four_momenta_LAB = np.zeros(shape=(N_per_fill,16))\n",
    "    \n",
    "    t_pts = 700*np.random.random(size=N_per_fill) # continuous time in 700 us\n",
    "    cyclotron_angles = get_theta_c(t_pts)\n",
    "    spin_precession_angles = get_theta_s(t_pts)\n",
    "\n",
    "    four_momenta_LAB[:,15] = t_pts # posiInitTime\n",
    "\n",
    "    for i in range(N_per_fill):\n",
    "        # positrons in MRF\n",
    "        theta_s = spin_precession_angles[i]\n",
    "        E_primed, px_primed, py_primed, pz_primed, muDecayPolX, muDecayPolY, muDecayPolZ = GeneratePositron_MRF(*GenerateMichelKinematics(),theta_s)\n",
    "        \n",
    "        # boost to LAB frame\n",
    "        theta_c = cyclotron_angles[i]\n",
    "        four_momenta_LAB[i,0:7] = GeneratePositron_LAB(E_primed, px_primed, py_primed, pz_primed, theta_c)\n",
    "        four_momenta_LAB[i,7] = muDecayPolX\n",
    "        four_momenta_LAB[i,8] = muDecayPolY\n",
    "        four_momenta_LAB[i,9] = muDecayPolZ\n",
    "        \n",
    "        # position in LAB frame [mm]      \n",
    "        four_momenta_LAB[i,12] = 7112*np.cos(theta_c) # posiInitPosX\n",
    "        four_momenta_LAB[i,13] = 0 # posiInitPosY # np.random.uniform(-45,45)\n",
    "        four_momenta_LAB[i,14] = 7112*np.sin(theta_c) # posiInitPosZ\n",
    "\n",
    "        # calculate and store g2phase \"Phase(muDecayPX,muDecayPZ,muDecayPolX,muDecayPolZ)\"\n",
    "        phase = Calculate_Phase(four_momenta_LAB[i,4], four_momenta_LAB[i,6],\n",
    "                                four_momenta_LAB[i,7], four_momenta_LAB[i,9])\n",
    "        four_momenta_LAB[i,10] = phase # g2phase\n",
    "        four_momenta_LAB[i,11] = np.cos(phase) # cos(g2phase)  \n",
    "    \n",
    "    return four_momenta_LAB"
   ]
  },
  {
   "cell_type": "code",
   "execution_count": 13,
   "id": "afdf4473-9aa7-45b2-b40f-1a962d69264e",
   "metadata": {},
   "outputs": [
    {
     "name": "stdout",
     "output_type": "stream",
     "text": [
      "Fill:  1\n",
      "--- time taken for michel: 0:03:47.024602 ---\n"
     ]
    }
   ],
   "source": [
    "import time, datetime\n",
    "\n",
    "N_per_fill = 1000000\n",
    "start_time = time.time()\n",
    "z=GenerateFill(1)\n",
    "print(\"--- time taken for michel: %s ---\" % (str(datetime.timedelta(seconds=time.time() - start_time))))"
   ]
  },
  {
   "cell_type": "code",
   "execution_count": 12,
   "id": "1dfdf7df-56ed-49aa-9478-9be149c6c3cd",
   "metadata": {},
   "outputs": [
    {
     "data": {
      "text/plain": [
       "array([189.17868178, 391.80510754, 668.3237277 , ..., 523.95443804,\n",
       "       646.17255433, 280.71728979])"
      ]
     },
     "execution_count": 12,
     "metadata": {},
     "output_type": "execute_result"
    }
   ],
   "source": [
    "z[:,15]"
   ]
  },
  {
   "cell_type": "markdown",
   "id": "4e2ddd93-e827-47f6-b58d-08cc4914a7c8",
   "metadata": {},
   "source": [
    "# 2.0 Parallel run"
   ]
  },
  {
   "cell_type": "code",
   "execution_count": 4,
   "id": "5c9d9fc3-2162-434c-86db-7adaaef81f16",
   "metadata": {},
   "outputs": [
    {
     "name": "stdout",
     "output_type": "stream",
     "text": [
      "available cpu : 72 \n",
      " cpu selected:  18\n"
     ]
    }
   ],
   "source": [
    "from multiprocessing import Pool,cpu_count\n",
    "\n",
    "N_cpu_avail = cpu_count()\n",
    "\n",
    "if (N_cpu_avail>16):\n",
    "    N_cpu_selected = int(N_cpu_avail/4) # conservative ratio\n",
    "\n",
    "else:\n",
    "    if (N_cpu_avail>8):\n",
    "        N_cpu_selected = 4\n",
    "    else:\n",
    "        N_cpu_selected = 1\n",
    "        \n",
    "print (\"available cpu :\",N_cpu_avail,\"\\n cpu selected: \",N_cpu_selected)"
   ]
  },
  {
   "cell_type": "code",
   "execution_count": 6,
   "id": "cf77a03c-0ab5-45c9-a9d9-8a13d0041dcd",
   "metadata": {},
   "outputs": [
    {
     "name": "stdout",
     "output_type": "stream",
     "text": [
      "Fill: Fill: Fill: Fill: Fill: Fill: Fill: Fill: Fill: Fill: Fill: Fill:  Fill:  Fill: Fill: Fill:          1 0  3  241456789\n",
      "10\n",
      "1112\n",
      "1513\n",
      "\n",
      "\n",
      "\n",
      "\n",
      "\n",
      "\n",
      "\n",
      "\n",
      "\n",
      "\n",
      "\n",
      "\n"
     ]
    }
   ],
   "source": [
    "N_cpu_selected = 16 # overide auto choosing\n",
    "N_fills = 16 # number of fills that you want to produce\n",
    "\n",
    "# parallelization\n",
    "pool = Pool(processes=N_cpu_selected)\n",
    "fills = pool.map(GenerateFill, range(N_fills))\n",
    "pool.close()\n",
    "pool.join()\n",
    "\n",
    "# collect all fills\n",
    "four_momenta_LAB = np.vstack(fills)"
   ]
  },
  {
   "cell_type": "code",
   "execution_count": 7,
   "id": "f1212207-fc29-4906-9a31-3bda9b7c32e3",
   "metadata": {
    "tags": []
   },
   "outputs": [],
   "source": [
    "# import os\n",
    "# nick_name = \"test\" # nick name to be given to the dataset\n",
    "# data_path = './data_{}'.format(nick_name)\n",
    "# fname = os.path.join(data_path,'03_four_momenta_LAB.npy')\n",
    "\n",
    "np.save('./data/test.npy',four_momenta_LAB)"
   ]
  },
  {
   "cell_type": "code",
   "execution_count": 2,
   "id": "b8d634f7-9044-4101-9561-9b2a5e072825",
   "metadata": {},
   "outputs": [],
   "source": [
    "four_momenta_LAB = np.load('./data/1Mxzt_y0_dt0.01.npy')"
   ]
  },
  {
   "cell_type": "code",
   "execution_count": 4,
   "id": "8af3baf7-46ed-48ff-a2f9-9aaeb31644d8",
   "metadata": {},
   "outputs": [],
   "source": []
  },
  {
   "cell_type": "markdown",
   "id": "503bed48-5376-477b-80a1-f7d071545617",
   "metadata": {},
   "source": [
    "# visualize"
   ]
  },
  {
   "cell_type": "code",
   "execution_count": 3,
   "id": "a01cab00-f3bf-4e1d-84e9-3b480cb5cbe5",
   "metadata": {},
   "outputs": [
    {
     "name": "stdout",
     "output_type": "stream",
     "text": [
      "ReadStreamerInfo, class:string, illegal uid=-2\n"
     ]
    },
    {
     "name": "stderr",
     "output_type": "stream",
     "text": [
      "Warning in <TClass::Init>: no dictionary for class __basic_string_common<true> is available\n"
     ]
    }
   ],
   "source": [
    "r.gInterpreter.Declare(\"\"\"\n",
    "//#include <math.h>\n",
    "\n",
    "double Phase(double y1, double x1, double y2, double x2) {\n",
    "   /* compute the angle difference between vector1 and vector2 given their x,y components. */\n",
    "   \n",
    "   double ans1 = atan2(y1,x1);  //angle of vector 1, muDecayP\n",
    "   double ans2 = atan2(y2,x2);  //angle of vector 2, muDecayPol\n",
    "   double ans = ans1 - ans2;\n",
    "   \n",
    "   if(ans<0){\n",
    "       ans = ans+2*M_PI;\n",
    "    }\n",
    "       \n",
    "   return ans;\n",
    "}\n",
    "\"\"\")\n",
    "\n",
    "# load gm2ringsim data\n",
    "fname = \"/home/junkai.ng/junkai.ng/CaloMC/gm2ringsim_muon_gasgun_ana_21378178_1.root\"\n",
    "df = r.RDataFrame(\"G2PhaseAnalyzer/g2phase\",fname)\n",
    "df = df.Define(\"g2phase\", \"Phase(muDecayPX,muDecayPZ,muDecayPolX,muDecayPolZ)\") \n",
    "df = df.Define(\"cosg2phase\", \"cos(g2phase)\") \n",
    "varList = [\"posiInitE\",\"posiInitPX\",\"posiInitPY\",\"posiInitPZ\",\"g2phase\",\"cosg2phase\"]\n",
    "data_gm2ringsim = df.AsNumpy(columns=varList)"
   ]
  },
  {
   "cell_type": "code",
   "execution_count": 4,
   "id": "8409f86a-5c32-4a89-80a4-fb5223362b67",
   "metadata": {},
   "outputs": [
    {
     "data": {
      "text/plain": [
       "<matplotlib.legend.Legend at 0x7f905e660fa0>"
      ]
     },
     "execution_count": 4,
     "metadata": {},
     "output_type": "execute_result"
    },
    {
     "data": {
      "image/png": "[encoded data removed]",
      "text/plain": [
       "<Figure size 1152x864 with 4 Axes>"
      ]
     },
     "metadata": {
      "needs_background": "light"
     },
     "output_type": "display_data"
    }
   ],
   "source": [
    "# make a plot to compare with the toy MC data\n",
    "fig = plt.figure(figsize=(16,12))\n",
    "fig.suptitle('Positron Energy and Momentum Distributions in LAB frame (gm2ringsim vs toy MC)', fontsize=20)\n",
    "\n",
    "ax1 = fig.add_subplot(2,2,1)\n",
    "ax1.hist(four_momenta_LAB[:,0],range=(0,3100),bins=50,density=True,alpha=0.5,label='toy MC')\n",
    "ax1.hist(data_gm2ringsim['posiInitE'],range=(0,3100),density=True,bins=50,histtype='step',linewidth=1.5,label='gm2ringsim')\n",
    "ax1.set_xlim([0,3150])\n",
    "ax1.set_xlabel('posiInitE [MeV]',fontsize=16)\n",
    "ax1.set_ylabel(\"probability density [arb. units]\",fontsize=16)\n",
    "ax1.tick_params(axis='x', labelsize=12)\n",
    "ax1.tick_params(axis='y', left=False)\n",
    "ax1.set_yticklabels([])\n",
    "\n",
    "ax2 = fig.add_subplot(2,2,2)\n",
    "ax2.hist(four_momenta_LAB[:,1],range=(-3100,3100),bins=50,density=True,alpha=0.5)\n",
    "ax2.hist(data_gm2ringsim['posiInitPX'],range=(-3100,3100),bins=50,density=True,histtype='step',linewidth=1.5)\n",
    "ax2.axvline(color='black', lw=1.0)\n",
    "ax2.set_xlabel('posiInitPX [MeV]',fontsize=16)\n",
    "ax2.set_ylabel(\"probability density [arb. units]\",fontsize=16)\n",
    "ax2.tick_params(axis='x', labelsize=12)\n",
    "ax2.tick_params(axis='y', left=False)\n",
    "ax2.set_yticklabels([])\n",
    "\n",
    "ax3 = fig.add_subplot(2,2,3)\n",
    "ax3.hist(four_momenta_LAB[:,2],range=(-56,56),bins=50,density=True,alpha=0.5)\n",
    "ax3.hist(data_gm2ringsim['posiInitPY'],range=(-56,56),bins=50,density=True,histtype='step',linewidth=1.5)\n",
    "ax3.axvline(color='black', lw=1.0)\n",
    "ax3.set_xlabel('posiInitPY [MeV]',fontsize=16)\n",
    "ax3.set_ylabel(\"probability density [arb. units]\",fontsize=16)\n",
    "ax3.tick_params(axis='x', labelsize=12)\n",
    "ax3.tick_params(axis='y', left=False)\n",
    "ax3.set_yticklabels([])\n",
    "\n",
    "ax4 = fig.add_subplot(2,2,4)\n",
    "ax4.hist(four_momenta_LAB[:,3],range=(-3100,3100),bins=50,density=True,alpha=0.5)\n",
    "ax4.hist(data_gm2ringsim['posiInitPZ'],range=(-3100,3100),bins=50,density=True,histtype='step',linewidth=1.5)\n",
    "ax4.axvline(color='black', lw=1.0)\n",
    "ax4.set_xlabel('posiInitPZ [MeV]',fontsize=16)\n",
    "ax4.set_ylabel(\"probability density [arb. units]\",fontsize=16)\n",
    "ax4.tick_params(axis='x', labelsize=12)\n",
    "ax4.tick_params(axis='y', left=False)\n",
    "ax4.set_yticklabels([])\n",
    "\n",
    "\n",
    "fig.legend(loc=(0.85,0.9),fontsize=12)"
   ]
  },
  {
   "cell_type": "code",
   "execution_count": 5,
   "id": "36b52397-5c21-4a3a-a5f1-6000b28aea58",
   "metadata": {},
   "outputs": [],
   "source": [
    "# sort out data at different cos(g2phase), for sampled data\n",
    "filter1 = np.where(abs(four_momenta_LAB[:,11]-1)<=0.4 ) # ctheta= 1\n",
    "filter2 = np.where(abs(four_momenta_LAB[:,11])<=0.4 )   # ctheta= 0\n",
    "filter3 = np.where(abs(four_momenta_LAB[:,11]+1)<=0.4 ) # ctheta= -1\n",
    "\n",
    "four_momenta_lab_filter_1 = four_momenta_LAB[filter1]\n",
    "four_momenta_lab_filter_2 = four_momenta_LAB[filter2]\n",
    "four_momenta_lab_filter_3 = four_momenta_LAB[filter3]"
   ]
  },
  {
   "cell_type": "code",
   "execution_count": 6,
   "id": "9eb8a29a-a187-44f6-9707-8b45cc9b4d13",
   "metadata": {},
   "outputs": [],
   "source": [
    "# sort out data at different cos(g2phase), for gm2ringsim data\n",
    "data_gm2ringsim_partial = np.zeros(shape=(2,data_gm2ringsim[\"posiInitE\"].size))\n",
    "data_gm2ringsim_partial[0] = data_gm2ringsim[\"posiInitE\"]\n",
    "data_gm2ringsim_partial[1] = data_gm2ringsim[\"cosg2phase\"]\n",
    "data_gm2ringsim_partial = data_gm2ringsim_partial.T\n",
    "\n",
    "filter1 = np.where(abs(data_gm2ringsim_partial[:,1]-1)<=0.4 ) # ctheta= 1, theta=0\n",
    "filter2 = np.where(abs(data_gm2ringsim_partial[:,1])<=0.4 )   # ctheta= 0, theta=90\n",
    "filter3 = np.where(abs(data_gm2ringsim_partial[:,1]+1)<=0.4 ) # ctheta= -1, theta=180\n",
    "\n",
    "data_gm2ringsim_partial_filter_1 = data_gm2ringsim_partial[filter1]\n",
    "data_gm2ringsim_partial_filter_2 = data_gm2ringsim_partial[filter2]\n",
    "data_gm2ringsim_partial_filter_3 = data_gm2ringsim_partial[filter3]"
   ]
  },
  {
   "cell_type": "code",
   "execution_count": 7,
   "id": "5f9215ed-1122-49ed-8c8f-6e4d0b39db98",
   "metadata": {},
   "outputs": [
    {
     "data": {
      "text/plain": [
       "<matplotlib.legend.Legend at 0x7f905b2c49a0>"
      ]
     },
     "execution_count": 7,
     "metadata": {},
     "output_type": "execute_result"
    },
    {
     "data": {
      "image/png": "[encoded data removed]",
      "text/plain": [
       "<Figure size 864x576 with 1 Axes>"
      ]
     },
     "metadata": {
      "needs_background": "light"
     },
     "output_type": "display_data"
    }
   ],
   "source": [
    "# make a plot to compare with the toy MC data\n",
    "fig = plt.figure(figsize=(12,8))\n",
    "fig.suptitle('Positron Energy Distributions at different g2phases (gm2ringsim vs toy MC)', fontsize=20)\n",
    "\n",
    "ax1 = fig.add_subplot(1,1,1)\n",
    "ax1.hist(data_gm2ringsim_partial_filter_1[:,0],range=(-3100,3100),bins=60,density=True,color='darkorange',histtype='step',linewidth=1.5)\n",
    "bin_counts,bin_edges = np.histogram(four_momenta_lab_filter_1[:,0],range=(-3100,3100),bins=60,density=True)\n",
    "bin_midpt = [0.5 * (bin_edges[i] + bin_edges[i+1]) for i in range(len(bin_counts))]\n",
    "ax1.scatter(bin_midpt,bin_counts,c='#FF7200',label='g2phase=0')\n",
    "\n",
    "ax1.hist(data_gm2ringsim_partial_filter_2[:,0],range=(-3100,3100),bins=60,density=True,color='purple',histtype='step',linewidth=1.5)\n",
    "bin_counts,bin_edges = np.histogram(four_momenta_lab_filter_2[:,0],range=(-3100,3100),bins=60,density=True)\n",
    "bin_midpt = [0.5 * (bin_edges[i] + bin_edges[i+1]) for i in range(len(bin_counts))]\n",
    "ax1.scatter(bin_midpt,bin_counts,c='#7200FF',label='g2phase=90')\n",
    "\n",
    "ax1.hist(data_gm2ringsim_partial_filter_3[:,0],range=(-3100,3100),bins=60,density=True,color='darkgreen',histtype='step',linewidth=1.5)\n",
    "bin_counts,bin_edges = np.histogram(four_momenta_lab_filter_3[:,0],range=(-3100,3100),bins=60,density=True)\n",
    "bin_midpt = [0.5 * (bin_edges[i] + bin_edges[i+1]) for i in range(len(bin_counts))]\n",
    "ax1.scatter(bin_midpt,bin_counts,c='#00FF72',label='g2phase=180')\n",
    "\n",
    "\n",
    "ax1.set_xlabel('posiInitE [MeV]',fontsize=16)\n",
    "ax1.set_ylabel(\"probability density [arb. units]\",fontsize=16)\n",
    "ax1.set_xlim([0,3150])\n",
    "ax1.tick_params(axis='x', labelsize=14)\n",
    "ax1.tick_params(axis='y', left=False)\n",
    "ax1.set_yticklabels([])\n",
    "\n",
    "lgd1 = ax1.legend(fontsize=12)\n",
    "ax1.add_artist(lgd1)\n",
    "\n",
    "import matplotlib.lines as mlines\n",
    "line1 = mlines.Line2D([], [],linewidth=0, color='black', marker='o', markersize=6, label='toy MC')\n",
    "line2 = mlines.Line2D([], [],linewidth=1.5, color='black', markersize=8, label='gm2ringsim')\n",
    "lgd2 = ax1.legend(handles=[line1,line2],fontsize=12,loc=(0.1,0.2))\n",
    "ax1.add_artist(lgd2)"
   ]
  },
  {
   "cell_type": "markdown",
   "id": "1ece12f5-2c67-4bb6-9dc0-9c7e815ef324",
   "metadata": {},
   "source": [
    "# 3.3 Energy vs g2phase Distribution"
   ]
  },
  {
   "cell_type": "code",
   "execution_count": 8,
   "id": "39c6758f-8c2b-45ff-8b40-ee1df37fb224",
   "metadata": {},
   "outputs": [
    {
     "data": {
      "image/png": "[encoded data removed]",
      "text/plain": [
       "<Figure size 864x576 with 1 Axes>"
      ]
     },
     "metadata": {
      "needs_background": "light"
     },
     "output_type": "display_data"
    }
   ],
   "source": [
    "fig = plt.figure(figsize=(12,8))\n",
    "fig.suptitle('Energy vs g2phase Distribution (toy MC result)', fontsize=20)\n",
    "\n",
    "ax1 = fig.add_subplot(1,1,1)\n",
    "ax1.hist2d(four_momenta_LAB[:,10],four_momenta_LAB[:,0],bins=(35,35),density=True,cmap='viridis')\n",
    "\n",
    "ax1.set_xlabel('g2phase [rad]',fontsize=16)\n",
    "ax1.set_ylabel(\"posiInitE [MeV]\",fontsize=16)\n",
    "ax1.tick_params(axis='x', labelsize=14)\n",
    "ax1.tick_params(axis='y', labelsize=14)"
   ]
  },
  {
   "cell_type": "code",
   "execution_count": null,
   "id": "c5d17634-1fe6-4546-8987-c6eabc97ba10",
   "metadata": {},
   "outputs": [],
   "source": []
  },
  {
   "cell_type": "code",
   "execution_count": null,
   "id": "7cd1368c-69f8-4626-aafc-209beb3171fd",
   "metadata": {},
   "outputs": [],
   "source": []
  },
  {
   "cell_type": "code",
   "execution_count": null,
   "id": "3585ec29-9ff0-423d-9e43-79d7f7cb3a09",
   "metadata": {},
   "outputs": [],
   "source": []
  },
  {
   "cell_type": "markdown",
   "id": "35e9c0ec-ce92-4b94-a304-6f72c37273f2",
   "metadata": {},
   "source": [
    "# simple BD eqn"
   ]
  },
  {
   "cell_type": "code",
   "execution_count": null,
   "id": "9f386036-f424-4133-93ee-cfa00eca5306",
   "metadata": {},
   "outputs": [],
   "source": [
    "def x(t):\n",
    "    x_0=0.0\n",
    "    a_x=0.0\n",
    "    omega_x=0.37\n",
    "    phi_x=0.0\n",
    "    return x_0 + a_x*np.cos(2*np.pi*omega_x*t+phi_x)\n",
    "    \n",
    "def y(t):\n",
    "    y_0=0.0\n",
    "    a_y=5.0\n",
    "    omega_y=2.2\n",
    "    phi_y=0.0\n",
    "    return y_0 + a_y*np.cos(2*np.pi*omega_y*t+phi_y)\n",
    "    \n",
    "# def acceptance_x(x):\n",
    "#     return 0.5 - float(x)/90\n",
    "\n",
    "# def acceptance_y(y):\n",
    "#     return 1.0 - abs(y)/45\n",
    "\n",
    "# def n_g2(t):\n",
    "#     a_g2=0.4\n",
    "#     omega_a=0.23\n",
    "#     phi_a=0.0\n",
    "#     return 1 + a_g2*np.cos(2*np.pi*omega_a*t+phi_a)"
   ]
  },
  {
   "cell_type": "code",
   "execution_count": null,
   "id": "b8bde6f2-6471-47cc-bd10-e95bacd91918",
   "metadata": {},
   "outputs": [],
   "source": [
    "n_point = 10000\n",
    "x_beam_pts = np.ndarray(n_point)\n",
    "y_beam_pts = np.ndarray(n_point)\n",
    "time_pts = np.ndarray(n_point)\n",
    "\n",
    "for i in range(n_point):\n",
    "    time_pts[i]=i/100 ## set time to 0.1 us or 100 ns\n",
    "    x_beam_pts[i]=x(time_pts[i])\n",
    "    y_beam_pts[i]=y(time_pts[i])"
   ]
  },
  {
   "cell_type": "code",
   "execution_count": null,
   "id": "1a1e2719-fdb5-45c7-94e9-646d6b651ebf",
   "metadata": {},
   "outputs": [],
   "source": []
  }
 ],
 "metadata": {
  "kernelspec": {
   "display_name": "Python 3",
   "language": "python",
   "name": "python3"
  },
  "language_info": {
   "codemirror_mode": {
    "name": "ipython",
    "version": 3
   },
   "file_extension": ".py",
   "mimetype": "text/x-python",
   "name": "python",
   "nbconvert_exporter": "python",
   "pygments_lexer": "ipython3",
   "version": "3.8.10"
  }
 },
 "nbformat": 4,
 "nbformat_minor": 5
}
