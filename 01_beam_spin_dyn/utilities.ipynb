{
 "cells": [
  {
   "cell_type": "markdown",
   "id": "1cc2f8ba-fc1b-4762-a7b7-e29ff944104b",
   "metadata": {},
   "source": [
    "# 0.0 Codes for import/reload modules, timing"
   ]
  },
  {
   "cell_type": "markdown",
   "id": "0e18c3e9-2220-45a6-9ff7-50ed3da3ee4d",
   "metadata": {},
   "source": [
    "## timing"
   ]
  },
  {
   "cell_type": "code",
   "execution_count": 1,
   "id": "55244259-6146-412b-92cd-55b4e8a549b3",
   "metadata": {},
   "outputs": [
    {
     "name": "stdout",
     "output_type": "stream",
     "text": [
      "--- time taken for michel: 0:00:00.000047 ---\n"
     ]
    }
   ],
   "source": [
    "import time, datetime\n",
    "start_time = time.time()\n",
    "print(\"--- time taken for michel: %s ---\" % (str(datetime.timedelta(seconds=time.time() - start_time))))"
   ]
  },
  {
   "cell_type": "markdown",
   "id": "d86872eb-b3da-4363-9aa5-4564d429fafc",
   "metadata": {},
   "source": [
    "# insert custom library paths"
   ]
  },
  {
   "cell_type": "code",
   "execution_count": 1,
   "id": "f3eb98ca-3fbd-45b3-a183-0b85d38b24a0",
   "metadata": {},
   "outputs": [
    {
     "data": {
      "text/plain": [
       "['/lustre/collider/junkai.ng/hybridMC',\n",
       " './02_positron_sampling',\n",
       " '/home/junkai.ng/.conda/envs/root_py38/lib/python38.zip',\n",
       " '/home/junkai.ng/.conda/envs/root_py38/lib/python3.8',\n",
       " '/home/junkai.ng/.conda/envs/root_py38/lib/python3.8/lib-dynload',\n",
       " '',\n",
       " '/home/junkai.ng/.conda/envs/root_py38/lib/python3.8/site-packages',\n",
       " '/home/junkai.ng/.conda/envs/root_py38/lib/python3.8/site-packages/IPython/extensions',\n",
       " '/home/junkai.ng/.ipython']"
      ]
     },
     "execution_count": 1,
     "metadata": {},
     "output_type": "execute_result"
    }
   ],
   "source": [
    "import sys\n",
    "# https://stackoverflow.com/questions/4383571/importing-files-from-different-folder\n",
    "# insert at 1, 0 is the script path (or '' in REPL)\n",
    "sys.path.insert(1,'./02_positron_sampling')\n",
    "sys.path"
   ]
  },
  {
   "cell_type": "markdown",
   "id": "7c9a1372-ea8d-4296-890d-a57dfdb043c3",
   "metadata": {},
   "source": [
    "## import and reload libraries, functions"
   ]
  },
  {
   "cell_type": "code",
   "execution_count": 2,
   "id": "316ccdd9-af5d-4921-87b7-bbf8796af8ab",
   "metadata": {},
   "outputs": [
    {
     "name": "stdout",
     "output_type": "stream",
     "text": [
      "Welcome to JupyROOT 6.24/00\n"
     ]
    }
   ],
   "source": [
    "import PositronDecay"
   ]
  },
  {
   "cell_type": "code",
   "execution_count": null,
   "id": "b27d95fb-68cb-46ee-ad8c-683630f68077",
   "metadata": {},
   "outputs": [],
   "source": [
    "import importlib\n",
    "importlib.reload(PositronDecay)"
   ]
  },
  {
   "cell_type": "code",
   "execution_count": 14,
   "id": "e068b593-6754-46cd-b6fd-3b198ebb9b69",
   "metadata": {},
   "outputs": [],
   "source": [
    "# reload from xxx import zzz\n",
    "importlib.reload(sys.modules['PositronDecay'])\n",
    "from PositronDecay import GenerateMichelKinematics, GeneratePositron_MRF, Calculate_Phase, GeneratePositron_LAB"
   ]
  },
  {
   "cell_type": "code",
   "execution_count": 4,
   "id": "7ffb3fc4-c4c4-4914-a891-e15dad3429c3",
   "metadata": {},
   "outputs": [
    {
     "name": "stdout",
     "output_type": "stream",
     "text": [
      "[array([0., 0., 0., 0., 0.], dtype=float32)\n",
      " array([1., 1., 1., 1., 1.], dtype=float32)\n",
      " array([2., 2., 2., 2., 2.], dtype=float32)\n",
      " array([3., 3., 3., 3., 3.], dtype=float32)]\n"
     ]
    }
   ],
   "source": [
    "# numpy vectorize\n",
    "def f(x):\n",
    "    return x * np.array([1,1,1,1,1], dtype=np.float32)\n",
    "g = np.vectorize(f, otypes=[np.ndarray])\n",
    "a = np.arange(4)\n",
    "print(g(a))"
   ]
  },
  {
   "cell_type": "code",
   "execution_count": null,
   "id": "4d76a435-4d13-4e2e-b39e-f267b8135846",
   "metadata": {},
   "outputs": [],
   "source": []
  }
 ],
 "metadata": {
  "kernelspec": {
   "display_name": "Python 3",
   "language": "python",
   "name": "python3"
  },
  "language_info": {
   "codemirror_mode": {
    "name": "ipython",
    "version": 3
   },
   "file_extension": ".py",
   "mimetype": "text/x-python",
   "name": "python",
   "nbconvert_exporter": "python",
   "pygments_lexer": "ipython3",
   "version": "3.8.10"
  }
 },
 "nbformat": 4,
 "nbformat_minor": 5
}
